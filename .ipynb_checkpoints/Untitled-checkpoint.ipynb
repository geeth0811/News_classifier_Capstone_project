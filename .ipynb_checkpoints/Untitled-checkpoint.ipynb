{
 "cells": [
  {
   "cell_type": "code",
   "execution_count": 1,
   "metadata": {},
   "outputs": [
    {
     "name": "stdout",
     "output_type": "stream",
     "text": [
      "<pyspark.sql.session.SparkSession object at 0x000002AD087DF4C0>\n",
      "Schema:\n",
      "root\n",
      " |-- _id: string (nullable = true)\n",
      " |-- _score: string (nullable = true)\n",
      " |-- author: string (nullable = true)\n",
      " |-- authors: string (nullable = true)\n",
      " |-- clean_url: string (nullable = true)\n",
      " |-- country: string (nullable = true)\n",
      " |-- is_opinion: string (nullable = true)\n",
      " |-- language: string (nullable = true)\n",
      " |-- link: string (nullable = true)\n",
      " |-- media: string (nullable = true)\n",
      " |-- published_date: string (nullable = true)\n",
      " |-- published_date_precision: string (nullable = true)\n",
      " |-- rank: string (nullable = true)\n",
      " |-- rights: string (nullable = true)\n",
      " |-- summary: string (nullable = true)\n",
      " |-- title: string (nullable = true)\n",
      " |-- topic: string (nullable = true)\n",
      " |-- twitter_account: string (nullable = true)\n",
      "\n",
      "show top 5 records: \n",
      "+--------------------+---------+--------------------+--------------------+---------------+-------+----------+--------+--------------------+--------------------+-------------------+------------------------+----+---------------+--------------------+--------------------+--------+---------------+\n",
      "|                 _id|   _score|              author|             authors|      clean_url|country|is_opinion|language|                link|               media|     published_date|published_date_precision|rank|         rights|             summary|               title|   topic|twitter_account|\n",
      "+--------------------+---------+--------------------+--------------------+---------------+-------+----------+--------+--------------------+--------------------+-------------------+------------------------+----+---------------+--------------------+--------------------+--------+---------------+\n",
      "|043e3fb23a9ebe42c...|10.674899|University Of Str...|[\"University Of S...|       phys.org|unknown|     false|      en|https://phys.org/...|https://scx2.b-cd...|2021-10-07 11:30:26|                    full| 638|       phys.org|Credit: Pixabay/C...|Riding the waves ...|    news|           null|\n",
      "|0a5b4f4770e559c08...|12.343698|                null|                  []|      yahoo.com|     US|     false|      en|https://finance.y...|https://s.yimg.co...|2021-10-04 19:09:00|                    full|  30|      yahoo.com|Over 30,000 Hocke...|FLOSPORTS BOLSTER...|business|         @Yahoo|\n",
      "|1041bc0fad459d701...|13.012945|                null|                  []|       ndtv.com|     IN|     false|      en|https://sports.nd...|https://c.ndtvimg...|2021-10-07 07:28:44|                    full| 895|     google.com|Chennai Super Kin...|CSK vs PBKS, Chen...|    news|    Sports_NDTV|\n",
      "|16dd55dda7b66c180...|12.946445|                null|                  []|     google.com|     US|     false|      en|http://feedproxy....|https://c.ndtvimg...|2021-10-04 10:25:18|                    full|   1|     google.com|The Indian Premie...|DC vs CSK, When A...|    news|    Sports_NDTV|\n",
      "|198d0ae1b4de875ae...|10.694115|Belinda Cleary Fo...|[\"Belinda Cleary\"...|dailymail.co.uk|     GB|     false|      en|https://www.daily...|https://i.dailyma...|2021-10-03 02:05:07|                    full| 128|dailymail.co.uk|Published: 22:05 ...|Australia has one...|    news|           null|\n",
      "+--------------------+---------+--------------------+--------------------+---------------+-------+----------+--------+--------------------+--------------------+-------------------+------------------------+----+---------------+--------------------+--------------------+--------+---------------+\n",
      "only showing top 5 rows\n",
      "\n"
     ]
    }
   ],
   "source": [
    "import pyspark\n",
    "import pandas as pd\n",
    "from pyspark.sql import SQLContext, SparkSession\n",
    "from pyspark import SparkContext,SparkConf\n",
    "from pyspark.sql.types import StructType,StructField,StringType\n",
    "from pyspark.sql.functions import col\n",
    "\n",
    "\n",
    "directory=\"./jars/*\"\n",
    "\n",
    "spark = SparkSession \\\n",
    "    .builder \\\n",
    "    .appName(\"NewsClassifier_datafeed\") \\\n",
    "    .config(\"spark.mongodb.input.uri\", \"mongodb://localhost:27017/news_database.news_feed\") \\\n",
    "    .config(\"spark.mongodb.output.uri\", \"mongodb://localhost:27017/news_database.news_feed\") \\\n",
    "    .config('spark.driver.extraClassPath', directory) \\\n",
    "    .getOrCreate()\n",
    "\n",
    "\n",
    "print(spark)\n",
    "\n",
    "df = spark.read.format(\"mongo\").load()\n",
    "\n",
    "print(\"Schema:\")\n",
    "df.printSchema()\n",
    "\n",
    "print(\"show top 5 records: \")\n",
    "df.show(5)\n"
   ]
  },
  {
   "cell_type": "code",
   "execution_count": 2,
   "metadata": {},
   "outputs": [
    {
     "data": {
      "text/plain": [
       "pyspark.sql.dataframe.DataFrame"
      ]
     },
     "execution_count": 2,
     "metadata": {},
     "output_type": "execute_result"
    }
   ],
   "source": [
    "type(df)"
   ]
  },
  {
   "cell_type": "code",
   "execution_count": 3,
   "metadata": {
    "scrolled": false
   },
   "outputs": [
    {
     "name": "stdout",
     "output_type": "stream",
     "text": [
      "+--------------------+--------------------+----------+--------------------+--------------------+--------------------+--------+\n",
      "|              author|             authors|is_opinion|               media|             summary|               title|   topic|\n",
      "+--------------------+--------------------+----------+--------------------+--------------------+--------------------+--------+\n",
      "|University Of Str...|[\"University Of S...|     false|https://scx2.b-cd...|Credit: Pixabay/C...|Riding the waves ...|    news|\n",
      "|                null|                  []|     false|https://s.yimg.co...|Over 30,000 Hocke...|FLOSPORTS BOLSTER...|business|\n",
      "|                null|                  []|     false|https://c.ndtvimg...|Chennai Super Kin...|CSK vs PBKS, Chen...|    news|\n",
      "|                null|                  []|     false|https://c.ndtvimg...|The Indian Premie...|DC vs CSK, When A...|    news|\n",
      "|Belinda Cleary Fo...|[\"Belinda Cleary\"...|     false|https://i.dailyma...|Published: 22:05 ...|Australia has one...|    news|\n",
      "+--------------------+--------------------+----------+--------------------+--------------------+--------------------+--------+\n",
      "only showing top 5 rows\n",
      "\n"
     ]
    },
    {
     "data": {
      "text/plain": [
       "['author', 'authors', 'is_opinion', 'media', 'summary', 'title', 'topic']"
      ]
     },
     "execution_count": 3,
     "metadata": {},
     "output_type": "execute_result"
    }
   ],
   "source": [
    "columns_to_drop = ['_id','_score','clean_url','country','language','link','published_date','published_date_precision','rank','rights','twitter_account']\n",
    "df = df.drop(*columns_to_drop)\n",
    "df.show(5)\n",
    "df.columns"
   ]
  },
  {
   "cell_type": "code",
   "execution_count": 4,
   "metadata": {},
   "outputs": [
    {
     "name": "stdout",
     "output_type": "stream",
     "text": [
      "root\n",
      " |-- author: string (nullable = true)\n",
      " |-- authors: string (nullable = true)\n",
      " |-- is_opinion: string (nullable = true)\n",
      " |-- media: string (nullable = true)\n",
      " |-- summary: string (nullable = true)\n",
      " |-- title: string (nullable = true)\n",
      " |-- topic: string (nullable = true)\n",
      "\n"
     ]
    }
   ],
   "source": [
    "df.printSchema()"
   ]
  },
  {
   "cell_type": "code",
   "execution_count": 5,
   "metadata": {},
   "outputs": [
    {
     "name": "stdout",
     "output_type": "stream",
     "text": [
      "+------+-------+----------+-----+-------+-----+-----+\n",
      "|author|authors|is_opinion|media|summary|title|topic|\n",
      "+------+-------+----------+-----+-------+-----+-----+\n",
      "+------+-------+----------+-----+-------+-----+-----+\n",
      "\n"
     ]
    }
   ],
   "source": [
    "df.filter(df.topic.isNull()).show()\n",
    "#(df.filter(col(\"author\").isNull())"
   ]
  },
  {
   "cell_type": "code",
   "execution_count": 6,
   "metadata": {},
   "outputs": [
    {
     "name": "stdout",
     "output_type": "stream",
     "text": [
      "+--------------------+--------------------+----------+--------------------+--------------------+--------------------+---------+\n",
      "|              author|             authors|is_opinion|               media|             summary|               title|    topic|\n",
      "+--------------------+--------------------+----------+--------------------+--------------------+--------------------+---------+\n",
      "|University Of Str...|[\"University Of S...|     false|https://scx2.b-cd...|Credit: Pixabay/C...|Riding the waves ...|     news|\n",
      "|                null|                  []|     false|https://s.yimg.co...|Over 30,000 Hocke...|FLOSPORTS BOLSTER...| business|\n",
      "|                null|                  []|     false|https://c.ndtvimg...|Chennai Super Kin...|CSK vs PBKS, Chen...|     news|\n",
      "|                null|                  []|     false|https://c.ndtvimg...|The Indian Premie...|DC vs CSK, When A...|     news|\n",
      "|Belinda Cleary Fo...|[\"Belinda Cleary\"...|     false|https://i.dailyma...|Published: 22:05 ...|Australia has one...|     news|\n",
      "|                 Pti|             [\"Pti\"]|     false|https://static.to...|England Hockey ha...|England pulls out...|    sport|\n",
      "|                null|                  []|     false|https://www.theag...|Topic | Australia...|Topic  Australian...|     news|\n",
      "|                null|                  []|     false|https://img.etimg...|PTIOdisha CM Patn...|Hockey: India swe...|economics|\n",
      "|        Rachel Kraus|    [\"Rachel Kraus\"]|     false|https://helios-i....|In 2014 I broke m...|Like Peloton, but...|     news|\n",
      "|     Sudipto Ganguly| [\"Sudipto Ganguly\"]|     false|https://www.reute...|Tokyo 2020 Olympi...|India withdraw ho...|     news|\n",
      "|           Flosports|[\"Flosports\",\"Glo...|     false|https://bloximage...|AUSTIN, Texas, Oc...|FLOSPORTS BOLSTER...| business|\n",
      "|  Edward Fitzpatrick|[\"Edward Fitzpatr...|     false|https://bostonglo...|Althea Mercer Man...|On her way to Blo...|     news|\n",
      "|Matias Grez and D...|[\"Matias Grez\",\"D...|     false|https://cdn.cnn.c...|(CNN)Ukrainian ho...|Ukrainian Hockey ...|    sport|\n",
      "|      Pa Sport Staff|  [\"Pa Sport Staff\"]|     false|https://static.in...|Paralympic champi...|Paralympic champi...|     news|\n",
      "|                null|                  []|     false|https://c.ndtvimg...|Virat Kohli-led R...|RCB vs SRH, Royal...|     news|\n",
      "|The Associated Press|[\"The Associated ...|     false|https://s.hdnux.c...|1of12Pittsburgh P...|Jarry, Penguins r...|    sport|\n",
      "|University Of Wat...|[\"University Of W...|     false|https://scx2.b-cd...|Credit: CC0 Publi...|Artificial intell...|  science|\n",
      "|    Michael Drummond|[\"Michael Drummond\"]|     false|https://static.st...|An Australian mar...|Swimmer chasing r...|     news|\n",
      "|                 Tnn|             [\"Tnn\"]|     false|https://static.to...|BHOPAL: Madhya Pr...|academy: Junior N...|     news|\n",
      "|                 Tnn|             [\"Tnn\"]|     false|https://static.to...|BHOPAL: Vadipatti...|Naval Academy reg...|     news|\n",
      "+--------------------+--------------------+----------+--------------------+--------------------+--------------------+---------+\n",
      "only showing top 20 rows\n",
      "\n"
     ]
    }
   ],
   "source": [
    "df.show()"
   ]
  },
  {
   "cell_type": "code",
   "execution_count": 7,
   "metadata": {},
   "outputs": [
    {
     "name": "stdout",
     "output_type": "stream",
     "text": [
      "+--------------------+--------------------+--------+\n",
      "|             summary|               title|   topic|\n",
      "+--------------------+--------------------+--------+\n",
      "|Credit: Pixabay/C...|Riding the waves ...|    news|\n",
      "|Over 30,000 Hocke...|FLOSPORTS BOLSTER...|business|\n",
      "|Chennai Super Kin...|CSK vs PBKS, Chen...|    news|\n",
      "|The Indian Premie...|DC vs CSK, When A...|    news|\n",
      "|Published: 22:05 ...|Australia has one...|    news|\n",
      "+--------------------+--------------------+--------+\n",
      "only showing top 5 rows\n",
      "\n"
     ]
    }
   ],
   "source": [
    "columns_to_drop = ['author', 'authors', 'is_opinion', 'media']\n",
    "df = df.drop(*columns_to_drop)\n",
    "df.show(5)"
   ]
  },
  {
   "cell_type": "code",
   "execution_count": 8,
   "metadata": {},
   "outputs": [
    {
     "name": "stdout",
     "output_type": "stream",
     "text": [
      "root\n",
      " |-- summary: string (nullable = true)\n",
      " |-- title: string (nullable = true)\n",
      " |-- topic: string (nullable = true)\n",
      "\n"
     ]
    }
   ],
   "source": [
    "df.printSchema()"
   ]
  },
  {
   "cell_type": "code",
   "execution_count": 9,
   "metadata": {},
   "outputs": [
    {
     "data": {
      "text/plain": [
       "pyspark.sql.dataframe.DataFrame"
      ]
     },
     "execution_count": 9,
     "metadata": {},
     "output_type": "execute_result"
    }
   ],
   "source": [
    "type(df)"
   ]
  },
  {
   "cell_type": "code",
   "execution_count": 10,
   "metadata": {},
   "outputs": [],
   "source": [
    "# removing the values which has both null in title and summary\n",
    "df=df.filter(df.title.isNotNull() & col(\"summary\").isNotNull())\n"
   ]
  },
  {
   "cell_type": "code",
   "execution_count": 11,
   "metadata": {},
   "outputs": [
    {
     "name": "stdout",
     "output_type": "stream",
     "text": [
      "+--------------------+--------------------+---------+\n",
      "|             summary|               title|    topic|\n",
      "+--------------------+--------------------+---------+\n",
      "|Credit: Pixabay/C...|Riding the waves ...|     news|\n",
      "|Over 30,000 Hocke...|FLOSPORTS BOLSTER...| business|\n",
      "|Chennai Super Kin...|CSK vs PBKS, Chen...|     news|\n",
      "|The Indian Premie...|DC vs CSK, When A...|     news|\n",
      "|Published: 22:05 ...|Australia has one...|     news|\n",
      "|England Hockey ha...|England pulls out...|    sport|\n",
      "|Topic | Australia...|Topic  Australian...|     news|\n",
      "|PTIOdisha CM Patn...|Hockey: India swe...|economics|\n",
      "|In 2014 I broke m...|Like Peloton, but...|     news|\n",
      "|Tokyo 2020 Olympi...|India withdraw ho...|     news|\n",
      "|AUSTIN, Texas, Oc...|FLOSPORTS BOLSTER...| business|\n",
      "|Althea Mercer Man...|On her way to Blo...|     news|\n",
      "|(CNN)Ukrainian ho...|Ukrainian Hockey ...|    sport|\n",
      "|Paralympic champi...|Paralympic champi...|     news|\n",
      "|Virat Kohli-led R...|RCB vs SRH, Royal...|     news|\n",
      "|1of12Pittsburgh P...|Jarry, Penguins r...|    sport|\n",
      "|Credit: CC0 Publi...|Artificial intell...|  science|\n",
      "|An Australian mar...|Swimmer chasing r...|     news|\n",
      "|BHOPAL: Madhya Pr...|academy: Junior N...|     news|\n",
      "|BHOPAL: Vadipatti...|Naval Academy reg...|     news|\n",
      "+--------------------+--------------------+---------+\n",
      "only showing top 20 rows\n",
      "\n"
     ]
    }
   ],
   "source": [
    "df.show()"
   ]
  },
  {
   "cell_type": "code",
   "execution_count": 12,
   "metadata": {},
   "outputs": [
    {
     "name": "stdout",
     "output_type": "stream",
     "text": [
      "+-------+-----+-----+\n",
      "|summary|title|topic|\n",
      "+-------+-----+-----+\n",
      "+-------+-----+-----+\n",
      "\n"
     ]
    }
   ],
   "source": [
    "#ensuring no null values\n",
    "df.filter(df.title.isNull() & col(\"summary\").isNull()).show()"
   ]
  },
  {
   "cell_type": "code",
   "execution_count": 13,
   "metadata": {},
   "outputs": [
    {
     "name": "stdout",
     "output_type": "stream",
     "text": [
      "+-------+-----+-----+\n",
      "|summary|title|topic|\n",
      "+-------+-----+-----+\n",
      "+-------+-----+-----+\n",
      "\n"
     ]
    }
   ],
   "source": [
    "df.filter(col(\"summary\").isNull()).show()"
   ]
  },
  {
   "cell_type": "code",
   "execution_count": 14,
   "metadata": {},
   "outputs": [
    {
     "name": "stdout",
     "output_type": "stream",
     "text": [
      "+-------+-----+-----+\n",
      "|summary|title|topic|\n",
      "+-------+-----+-----+\n",
      "+-------+-----+-----+\n",
      "\n"
     ]
    }
   ],
   "source": [
    "df.filter(df.topic.isNull()).show()"
   ]
  },
  {
   "cell_type": "code",
   "execution_count": 15,
   "metadata": {},
   "outputs": [
    {
     "name": "stdout",
     "output_type": "stream",
     "text": [
      "+--------------------+--------------------+---------+\n",
      "|             summary|               title|    topic|\n",
      "+--------------------+--------------------+---------+\n",
      "|Credit: Pixabay/C...|Riding the waves ...|     news|\n",
      "|Over 30,000 Hocke...|FLOSPORTS BOLSTER...| business|\n",
      "|Chennai Super Kin...|CSK vs PBKS, Chen...|     news|\n",
      "|The Indian Premie...|DC vs CSK, When A...|     news|\n",
      "|Published: 22:05 ...|Australia has one...|     news|\n",
      "|England Hockey ha...|England pulls out...|    sport|\n",
      "|Topic | Australia...|Topic  Australian...|     news|\n",
      "|PTIOdisha CM Patn...|Hockey: India swe...|economics|\n",
      "|In 2014 I broke m...|Like Peloton, but...|     news|\n",
      "|Tokyo 2020 Olympi...|India withdraw ho...|     news|\n",
      "|AUSTIN, Texas, Oc...|FLOSPORTS BOLSTER...| business|\n",
      "|Althea Mercer Man...|On her way to Blo...|     news|\n",
      "|(CNN)Ukrainian ho...|Ukrainian Hockey ...|    sport|\n",
      "|Paralympic champi...|Paralympic champi...|     news|\n",
      "|Virat Kohli-led R...|RCB vs SRH, Royal...|     news|\n",
      "|1of12Pittsburgh P...|Jarry, Penguins r...|    sport|\n",
      "|Credit: CC0 Publi...|Artificial intell...|  science|\n",
      "|An Australian mar...|Swimmer chasing r...|     news|\n",
      "|BHOPAL: Madhya Pr...|academy: Junior N...|     news|\n",
      "|BHOPAL: Vadipatti...|Naval Academy reg...|     news|\n",
      "+--------------------+--------------------+---------+\n",
      "only showing top 20 rows\n",
      "\n"
     ]
    }
   ],
   "source": [
    "df.show()"
   ]
  },
  {
   "cell_type": "code",
   "execution_count": 16,
   "metadata": {},
   "outputs": [
    {
     "name": "stdout",
     "output_type": "stream",
     "text": [
      "+--------------------+--------------------+---------+\n",
      "|             summary|               title|    topic|\n",
      "+--------------------+--------------------+---------+\n",
      "|Credit: Pixabay/C...|Riding the waves ...|     news|\n",
      "|Over 30,000 Hocke...|FLOSPORTS BOLSTER...| business|\n",
      "|Chennai Super Kin...|CSK vs PBKS, Chen...|     news|\n",
      "|The Indian Premie...|DC vs CSK, When A...|     news|\n",
      "|Published: 22:05 ...|Australia has one...|     news|\n",
      "|England Hockey ha...|England pulls out...|    sport|\n",
      "|Topic | Australia...|Topic  Australian...|     news|\n",
      "|PTIOdisha CM Patn...|Hockey: India swe...|economics|\n",
      "|In 2014 I broke m...|Like Peloton, but...|     news|\n",
      "|Tokyo 2020 Olympi...|India withdraw ho...|     news|\n",
      "|AUSTIN, Texas, Oc...|FLOSPORTS BOLSTER...| business|\n",
      "|Althea Mercer Man...|On her way to Blo...|     news|\n",
      "|(CNN)Ukrainian ho...|Ukrainian Hockey ...|    sport|\n",
      "|Paralympic champi...|Paralympic champi...|     news|\n",
      "|Virat Kohli-led R...|RCB vs SRH, Royal...|     news|\n",
      "|1of12Pittsburgh P...|Jarry, Penguins r...|    sport|\n",
      "|Credit: CC0 Publi...|Artificial intell...|  science|\n",
      "|An Australian mar...|Swimmer chasing r...|     news|\n",
      "|BHOPAL: Madhya Pr...|academy: Junior N...|     news|\n",
      "|BHOPAL: Vadipatti...|Naval Academy reg...|     news|\n",
      "+--------------------+--------------------+---------+\n",
      "only showing top 20 rows\n",
      "\n"
     ]
    }
   ],
   "source": [
    "df.filter(df.topic.isNotNull()).show()"
   ]
  },
  {
   "cell_type": "code",
   "execution_count": 17,
   "metadata": {},
   "outputs": [
    {
     "name": "stdout",
     "output_type": "stream",
     "text": [
      "+--------------------+--------------------+---------+\n",
      "|             summary|               title|    topic|\n",
      "+--------------------+--------------------+---------+\n",
      "|Credit: Pixabay/C...|Riding the waves ...|     news|\n",
      "|Over 30,000 Hocke...|FLOSPORTS BOLSTER...| business|\n",
      "|Chennai Super Kin...|CSK vs PBKS, Chen...|     news|\n",
      "|The Indian Premie...|DC vs CSK, When A...|     news|\n",
      "|Published: 22:05 ...|Australia has one...|     news|\n",
      "|England Hockey ha...|England pulls out...|    sport|\n",
      "|Topic | Australia...|Topic  Australian...|     news|\n",
      "|PTIOdisha CM Patn...|Hockey: India swe...|economics|\n",
      "|In 2014 I broke m...|Like Peloton, but...|     news|\n",
      "|Tokyo 2020 Olympi...|India withdraw ho...|     news|\n",
      "|AUSTIN, Texas, Oc...|FLOSPORTS BOLSTER...| business|\n",
      "|Althea Mercer Man...|On her way to Blo...|     news|\n",
      "|(CNN)Ukrainian ho...|Ukrainian Hockey ...|    sport|\n",
      "|Paralympic champi...|Paralympic champi...|     news|\n",
      "|Virat Kohli-led R...|RCB vs SRH, Royal...|     news|\n",
      "|1of12Pittsburgh P...|Jarry, Penguins r...|    sport|\n",
      "|Credit: CC0 Publi...|Artificial intell...|  science|\n",
      "|An Australian mar...|Swimmer chasing r...|     news|\n",
      "|BHOPAL: Madhya Pr...|academy: Junior N...|     news|\n",
      "|BHOPAL: Vadipatti...|Naval Academy reg...|     news|\n",
      "+--------------------+--------------------+---------+\n",
      "only showing top 20 rows\n",
      "\n"
     ]
    }
   ],
   "source": [
    "df.show()"
   ]
  },
  {
   "cell_type": "code",
   "execution_count": 18,
   "metadata": {},
   "outputs": [
    {
     "name": "stdout",
     "output_type": "stream",
     "text": [
      "(231131, 3)\n"
     ]
    }
   ],
   "source": [
    "print((df.count(), len(df.columns)))"
   ]
  },
  {
   "cell_type": "code",
   "execution_count": 19,
   "metadata": {},
   "outputs": [],
   "source": [
    "pd_Df=df.toPandas()"
   ]
  },
  {
   "cell_type": "code",
   "execution_count": 20,
   "metadata": {},
   "outputs": [
    {
     "data": {
      "text/plain": [
       "pandas.core.frame.DataFrame"
      ]
     },
     "execution_count": 20,
     "metadata": {},
     "output_type": "execute_result"
    }
   ],
   "source": [
    "type(pd_Df)"
   ]
  },
  {
   "cell_type": "code",
   "execution_count": 21,
   "metadata": {},
   "outputs": [
    {
     "data": {
      "text/html": [
       "<div>\n",
       "<style scoped>\n",
       "    .dataframe tbody tr th:only-of-type {\n",
       "        vertical-align: middle;\n",
       "    }\n",
       "\n",
       "    .dataframe tbody tr th {\n",
       "        vertical-align: top;\n",
       "    }\n",
       "\n",
       "    .dataframe thead th {\n",
       "        text-align: right;\n",
       "    }\n",
       "</style>\n",
       "<table border=\"1\" class=\"dataframe\">\n",
       "  <thead>\n",
       "    <tr style=\"text-align: right;\">\n",
       "      <th></th>\n",
       "      <th>summary</th>\n",
       "      <th>title</th>\n",
       "      <th>topic</th>\n",
       "    </tr>\n",
       "  </thead>\n",
       "  <tbody>\n",
       "    <tr>\n",
       "      <th>0</th>\n",
       "      <td>Credit: Pixabay/CC0 Public Domain \\nThe sight ...</td>\n",
       "      <td>Riding the waves keeps ducks in a row</td>\n",
       "      <td>news</td>\n",
       "    </tr>\n",
       "    <tr>\n",
       "      <th>1</th>\n",
       "      <td>Over 30,000 Hockey Games Annually On HockeyTV ...</td>\n",
       "      <td>FLOSPORTS BOLSTERS ITS HOCKEY OFFERING WITH AC...</td>\n",
       "      <td>business</td>\n",
       "    </tr>\n",
       "    <tr>\n",
       "      <th>2</th>\n",
       "      <td>Chennai Super Kings (CSK) will spearhead again...</td>\n",
       "      <td>CSK vs PBKS, Chennai Super Kings vs Punjab Kin...</td>\n",
       "      <td>news</td>\n",
       "    </tr>\n",
       "    <tr>\n",
       "      <th>3</th>\n",
       "      <td>The Indian Premier League (IPL) 2021 has reach...</td>\n",
       "      <td>DC vs CSK, When And Where To Watch: Live Telec...</td>\n",
       "      <td>news</td>\n",
       "    </tr>\n",
       "    <tr>\n",
       "      <th>4</th>\n",
       "      <td>Published: 22:05 EDT, 2 October 2021 | Updated...</td>\n",
       "      <td>Australia has one of the world's best skinny d...</td>\n",
       "      <td>news</td>\n",
       "    </tr>\n",
       "    <tr>\n",
       "      <th>5</th>\n",
       "      <td>England Hockey has informed the FIH of its dec...</td>\n",
       "      <td>England pulls out of men's Junior Hockey World...</td>\n",
       "      <td>sport</td>\n",
       "    </tr>\n",
       "    <tr>\n",
       "      <th>6</th>\n",
       "      <td>Topic | Australian swimming | The AgeWe're sor...</td>\n",
       "      <td>Topic  Australian swimming</td>\n",
       "      <td>news</td>\n",
       "    </tr>\n",
       "    <tr>\n",
       "      <th>7</th>\n",
       "      <td>PTIOdisha CM Patnaik felicitated Indian hockey...</td>\n",
       "      <td>Hockey: India sweeps FIH annual awards; Belgiu...</td>\n",
       "      <td>economics</td>\n",
       "    </tr>\n",
       "    <tr>\n",
       "      <th>8</th>\n",
       "      <td>In 2014 I broke my butt (meaning, I pulled my ...</td>\n",
       "      <td>Like Peloton, but…in the pool? Guided swim wor...</td>\n",
       "      <td>news</td>\n",
       "    </tr>\n",
       "    <tr>\n",
       "      <th>9</th>\n",
       "      <td>Tokyo 2020 Olympics - Hockey - Men - Semifinal...</td>\n",
       "      <td>India withdraw hockey teams from Commonwealth ...</td>\n",
       "      <td>news</td>\n",
       "    </tr>\n",
       "  </tbody>\n",
       "</table>\n",
       "</div>"
      ],
      "text/plain": [
       "                                             summary  \\\n",
       "0  Credit: Pixabay/CC0 Public Domain \\nThe sight ...   \n",
       "1  Over 30,000 Hockey Games Annually On HockeyTV ...   \n",
       "2  Chennai Super Kings (CSK) will spearhead again...   \n",
       "3  The Indian Premier League (IPL) 2021 has reach...   \n",
       "4  Published: 22:05 EDT, 2 October 2021 | Updated...   \n",
       "5  England Hockey has informed the FIH of its dec...   \n",
       "6  Topic | Australian swimming | The AgeWe're sor...   \n",
       "7  PTIOdisha CM Patnaik felicitated Indian hockey...   \n",
       "8  In 2014 I broke my butt (meaning, I pulled my ...   \n",
       "9  Tokyo 2020 Olympics - Hockey - Men - Semifinal...   \n",
       "\n",
       "                                               title      topic  \n",
       "0              Riding the waves keeps ducks in a row       news  \n",
       "1  FLOSPORTS BOLSTERS ITS HOCKEY OFFERING WITH AC...   business  \n",
       "2  CSK vs PBKS, Chennai Super Kings vs Punjab Kin...       news  \n",
       "3  DC vs CSK, When And Where To Watch: Live Telec...       news  \n",
       "4  Australia has one of the world's best skinny d...       news  \n",
       "5  England pulls out of men's Junior Hockey World...      sport  \n",
       "6                         Topic  Australian swimming       news  \n",
       "7  Hockey: India sweeps FIH annual awards; Belgiu...  economics  \n",
       "8  Like Peloton, but…in the pool? Guided swim wor...       news  \n",
       "9  India withdraw hockey teams from Commonwealth ...       news  "
      ]
     },
     "execution_count": 21,
     "metadata": {},
     "output_type": "execute_result"
    }
   ],
   "source": [
    "pd_Df.head(10)"
   ]
  },
  {
   "cell_type": "code",
   "execution_count": 22,
   "metadata": {},
   "outputs": [],
   "source": [
    "# adding the title null values as summary just incase if we come accross null vales\n",
    "pd_Df[\"title\"].fillna('summary', inplace=True)"
   ]
  },
  {
   "cell_type": "code",
   "execution_count": 23,
   "metadata": {},
   "outputs": [
    {
     "data": {
      "text/html": [
       "<div>\n",
       "<style scoped>\n",
       "    .dataframe tbody tr th:only-of-type {\n",
       "        vertical-align: middle;\n",
       "    }\n",
       "\n",
       "    .dataframe tbody tr th {\n",
       "        vertical-align: top;\n",
       "    }\n",
       "\n",
       "    .dataframe thead th {\n",
       "        text-align: right;\n",
       "    }\n",
       "</style>\n",
       "<table border=\"1\" class=\"dataframe\">\n",
       "  <thead>\n",
       "    <tr style=\"text-align: right;\">\n",
       "      <th></th>\n",
       "      <th>summary</th>\n",
       "      <th>title</th>\n",
       "      <th>topic</th>\n",
       "    </tr>\n",
       "  </thead>\n",
       "  <tbody>\n",
       "    <tr>\n",
       "      <th>0</th>\n",
       "      <td>Credit: Pixabay/CC0 Public Domain \\nThe sight ...</td>\n",
       "      <td>Riding the waves keeps ducks in a row</td>\n",
       "      <td>news</td>\n",
       "    </tr>\n",
       "    <tr>\n",
       "      <th>1</th>\n",
       "      <td>Over 30,000 Hockey Games Annually On HockeyTV ...</td>\n",
       "      <td>FLOSPORTS BOLSTERS ITS HOCKEY OFFERING WITH AC...</td>\n",
       "      <td>business</td>\n",
       "    </tr>\n",
       "    <tr>\n",
       "      <th>2</th>\n",
       "      <td>Chennai Super Kings (CSK) will spearhead again...</td>\n",
       "      <td>CSK vs PBKS, Chennai Super Kings vs Punjab Kin...</td>\n",
       "      <td>news</td>\n",
       "    </tr>\n",
       "    <tr>\n",
       "      <th>3</th>\n",
       "      <td>The Indian Premier League (IPL) 2021 has reach...</td>\n",
       "      <td>DC vs CSK, When And Where To Watch: Live Telec...</td>\n",
       "      <td>news</td>\n",
       "    </tr>\n",
       "    <tr>\n",
       "      <th>4</th>\n",
       "      <td>Published: 22:05 EDT, 2 October 2021 | Updated...</td>\n",
       "      <td>Australia has one of the world's best skinny d...</td>\n",
       "      <td>news</td>\n",
       "    </tr>\n",
       "    <tr>\n",
       "      <th>5</th>\n",
       "      <td>England Hockey has informed the FIH of its dec...</td>\n",
       "      <td>England pulls out of men's Junior Hockey World...</td>\n",
       "      <td>sport</td>\n",
       "    </tr>\n",
       "    <tr>\n",
       "      <th>6</th>\n",
       "      <td>Topic | Australian swimming | The AgeWe're sor...</td>\n",
       "      <td>Topic  Australian swimming</td>\n",
       "      <td>news</td>\n",
       "    </tr>\n",
       "    <tr>\n",
       "      <th>7</th>\n",
       "      <td>PTIOdisha CM Patnaik felicitated Indian hockey...</td>\n",
       "      <td>Hockey: India sweeps FIH annual awards; Belgiu...</td>\n",
       "      <td>economics</td>\n",
       "    </tr>\n",
       "    <tr>\n",
       "      <th>8</th>\n",
       "      <td>In 2014 I broke my butt (meaning, I pulled my ...</td>\n",
       "      <td>Like Peloton, but…in the pool? Guided swim wor...</td>\n",
       "      <td>news</td>\n",
       "    </tr>\n",
       "    <tr>\n",
       "      <th>9</th>\n",
       "      <td>Tokyo 2020 Olympics - Hockey - Men - Semifinal...</td>\n",
       "      <td>India withdraw hockey teams from Commonwealth ...</td>\n",
       "      <td>news</td>\n",
       "    </tr>\n",
       "  </tbody>\n",
       "</table>\n",
       "</div>"
      ],
      "text/plain": [
       "                                             summary  \\\n",
       "0  Credit: Pixabay/CC0 Public Domain \\nThe sight ...   \n",
       "1  Over 30,000 Hockey Games Annually On HockeyTV ...   \n",
       "2  Chennai Super Kings (CSK) will spearhead again...   \n",
       "3  The Indian Premier League (IPL) 2021 has reach...   \n",
       "4  Published: 22:05 EDT, 2 October 2021 | Updated...   \n",
       "5  England Hockey has informed the FIH of its dec...   \n",
       "6  Topic | Australian swimming | The AgeWe're sor...   \n",
       "7  PTIOdisha CM Patnaik felicitated Indian hockey...   \n",
       "8  In 2014 I broke my butt (meaning, I pulled my ...   \n",
       "9  Tokyo 2020 Olympics - Hockey - Men - Semifinal...   \n",
       "\n",
       "                                               title      topic  \n",
       "0              Riding the waves keeps ducks in a row       news  \n",
       "1  FLOSPORTS BOLSTERS ITS HOCKEY OFFERING WITH AC...   business  \n",
       "2  CSK vs PBKS, Chennai Super Kings vs Punjab Kin...       news  \n",
       "3  DC vs CSK, When And Where To Watch: Live Telec...       news  \n",
       "4  Australia has one of the world's best skinny d...       news  \n",
       "5  England pulls out of men's Junior Hockey World...      sport  \n",
       "6                         Topic  Australian swimming       news  \n",
       "7  Hockey: India sweeps FIH annual awards; Belgiu...  economics  \n",
       "8  Like Peloton, but…in the pool? Guided swim wor...       news  \n",
       "9  India withdraw hockey teams from Commonwealth ...       news  "
      ]
     },
     "execution_count": 23,
     "metadata": {},
     "output_type": "execute_result"
    }
   ],
   "source": [
    "pd_Df.head(10)"
   ]
  },
  {
   "cell_type": "code",
   "execution_count": 25,
   "metadata": {},
   "outputs": [],
   "source": [
    "pd_Df[\"summary\"].fillna('title', inplace=True)\n",
    "pd_Df[\"topic\"].fillna(\"General news\", inplace=True)"
   ]
  },
  {
   "cell_type": "code",
   "execution_count": 26,
   "metadata": {},
   "outputs": [
    {
     "data": {
      "text/html": [
       "<div>\n",
       "<style scoped>\n",
       "    .dataframe tbody tr th:only-of-type {\n",
       "        vertical-align: middle;\n",
       "    }\n",
       "\n",
       "    .dataframe tbody tr th {\n",
       "        vertical-align: top;\n",
       "    }\n",
       "\n",
       "    .dataframe thead th {\n",
       "        text-align: right;\n",
       "    }\n",
       "</style>\n",
       "<table border=\"1\" class=\"dataframe\">\n",
       "  <thead>\n",
       "    <tr style=\"text-align: right;\">\n",
       "      <th></th>\n",
       "      <th>summary</th>\n",
       "      <th>title</th>\n",
       "      <th>topic</th>\n",
       "    </tr>\n",
       "  </thead>\n",
       "  <tbody>\n",
       "    <tr>\n",
       "      <th>0</th>\n",
       "      <td>Credit: Pixabay/CC0 Public Domain \\nThe sight ...</td>\n",
       "      <td>Riding the waves keeps ducks in a row</td>\n",
       "      <td>news</td>\n",
       "    </tr>\n",
       "    <tr>\n",
       "      <th>1</th>\n",
       "      <td>Over 30,000 Hockey Games Annually On HockeyTV ...</td>\n",
       "      <td>FLOSPORTS BOLSTERS ITS HOCKEY OFFERING WITH AC...</td>\n",
       "      <td>business</td>\n",
       "    </tr>\n",
       "    <tr>\n",
       "      <th>2</th>\n",
       "      <td>Chennai Super Kings (CSK) will spearhead again...</td>\n",
       "      <td>CSK vs PBKS, Chennai Super Kings vs Punjab Kin...</td>\n",
       "      <td>news</td>\n",
       "    </tr>\n",
       "    <tr>\n",
       "      <th>3</th>\n",
       "      <td>The Indian Premier League (IPL) 2021 has reach...</td>\n",
       "      <td>DC vs CSK, When And Where To Watch: Live Telec...</td>\n",
       "      <td>news</td>\n",
       "    </tr>\n",
       "    <tr>\n",
       "      <th>4</th>\n",
       "      <td>Published: 22:05 EDT, 2 October 2021 | Updated...</td>\n",
       "      <td>Australia has one of the world's best skinny d...</td>\n",
       "      <td>news</td>\n",
       "    </tr>\n",
       "    <tr>\n",
       "      <th>5</th>\n",
       "      <td>England Hockey has informed the FIH of its dec...</td>\n",
       "      <td>England pulls out of men's Junior Hockey World...</td>\n",
       "      <td>sport</td>\n",
       "    </tr>\n",
       "    <tr>\n",
       "      <th>6</th>\n",
       "      <td>Topic | Australian swimming | The AgeWe're sor...</td>\n",
       "      <td>Topic  Australian swimming</td>\n",
       "      <td>news</td>\n",
       "    </tr>\n",
       "    <tr>\n",
       "      <th>7</th>\n",
       "      <td>PTIOdisha CM Patnaik felicitated Indian hockey...</td>\n",
       "      <td>Hockey: India sweeps FIH annual awards; Belgiu...</td>\n",
       "      <td>economics</td>\n",
       "    </tr>\n",
       "    <tr>\n",
       "      <th>8</th>\n",
       "      <td>In 2014 I broke my butt (meaning, I pulled my ...</td>\n",
       "      <td>Like Peloton, but…in the pool? Guided swim wor...</td>\n",
       "      <td>news</td>\n",
       "    </tr>\n",
       "    <tr>\n",
       "      <th>9</th>\n",
       "      <td>Tokyo 2020 Olympics - Hockey - Men - Semifinal...</td>\n",
       "      <td>India withdraw hockey teams from Commonwealth ...</td>\n",
       "      <td>news</td>\n",
       "    </tr>\n",
       "  </tbody>\n",
       "</table>\n",
       "</div>"
      ],
      "text/plain": [
       "                                             summary  \\\n",
       "0  Credit: Pixabay/CC0 Public Domain \\nThe sight ...   \n",
       "1  Over 30,000 Hockey Games Annually On HockeyTV ...   \n",
       "2  Chennai Super Kings (CSK) will spearhead again...   \n",
       "3  The Indian Premier League (IPL) 2021 has reach...   \n",
       "4  Published: 22:05 EDT, 2 October 2021 | Updated...   \n",
       "5  England Hockey has informed the FIH of its dec...   \n",
       "6  Topic | Australian swimming | The AgeWe're sor...   \n",
       "7  PTIOdisha CM Patnaik felicitated Indian hockey...   \n",
       "8  In 2014 I broke my butt (meaning, I pulled my ...   \n",
       "9  Tokyo 2020 Olympics - Hockey - Men - Semifinal...   \n",
       "\n",
       "                                               title      topic  \n",
       "0              Riding the waves keeps ducks in a row       news  \n",
       "1  FLOSPORTS BOLSTERS ITS HOCKEY OFFERING WITH AC...   business  \n",
       "2  CSK vs PBKS, Chennai Super Kings vs Punjab Kin...       news  \n",
       "3  DC vs CSK, When And Where To Watch: Live Telec...       news  \n",
       "4  Australia has one of the world's best skinny d...       news  \n",
       "5  England pulls out of men's Junior Hockey World...      sport  \n",
       "6                         Topic  Australian swimming       news  \n",
       "7  Hockey: India sweeps FIH annual awards; Belgiu...  economics  \n",
       "8  Like Peloton, but…in the pool? Guided swim wor...       news  \n",
       "9  India withdraw hockey teams from Commonwealth ...       news  "
      ]
     },
     "execution_count": 26,
     "metadata": {},
     "output_type": "execute_result"
    }
   ],
   "source": [
    "pd_Df.head(10)"
   ]
  },
  {
   "cell_type": "code",
   "execution_count": 27,
   "metadata": {},
   "outputs": [],
   "source": [
    "#sending the input to model as title + summary\n",
    "pd_Df['model_input_txt']=pd_Df['title'] + pd_Df['summary']"
   ]
  },
  {
   "cell_type": "code",
   "execution_count": 28,
   "metadata": {},
   "outputs": [
    {
     "data": {
      "text/html": [
       "<div>\n",
       "<style scoped>\n",
       "    .dataframe tbody tr th:only-of-type {\n",
       "        vertical-align: middle;\n",
       "    }\n",
       "\n",
       "    .dataframe tbody tr th {\n",
       "        vertical-align: top;\n",
       "    }\n",
       "\n",
       "    .dataframe thead th {\n",
       "        text-align: right;\n",
       "    }\n",
       "</style>\n",
       "<table border=\"1\" class=\"dataframe\">\n",
       "  <thead>\n",
       "    <tr style=\"text-align: right;\">\n",
       "      <th></th>\n",
       "      <th>summary</th>\n",
       "      <th>title</th>\n",
       "      <th>topic</th>\n",
       "      <th>model_input_txt</th>\n",
       "    </tr>\n",
       "  </thead>\n",
       "  <tbody>\n",
       "    <tr>\n",
       "      <th>0</th>\n",
       "      <td>Credit: Pixabay/CC0 Public Domain \\nThe sight ...</td>\n",
       "      <td>Riding the waves keeps ducks in a row</td>\n",
       "      <td>news</td>\n",
       "      <td>Riding the waves keeps ducks in a rowCredit: P...</td>\n",
       "    </tr>\n",
       "    <tr>\n",
       "      <th>1</th>\n",
       "      <td>Over 30,000 Hockey Games Annually On HockeyTV ...</td>\n",
       "      <td>FLOSPORTS BOLSTERS ITS HOCKEY OFFERING WITH AC...</td>\n",
       "      <td>business</td>\n",
       "      <td>FLOSPORTS BOLSTERS ITS HOCKEY OFFERING WITH AC...</td>\n",
       "    </tr>\n",
       "    <tr>\n",
       "      <th>2</th>\n",
       "      <td>Chennai Super Kings (CSK) will spearhead again...</td>\n",
       "      <td>CSK vs PBKS, Chennai Super Kings vs Punjab Kin...</td>\n",
       "      <td>news</td>\n",
       "      <td>CSK vs PBKS, Chennai Super Kings vs Punjab Kin...</td>\n",
       "    </tr>\n",
       "    <tr>\n",
       "      <th>3</th>\n",
       "      <td>The Indian Premier League (IPL) 2021 has reach...</td>\n",
       "      <td>DC vs CSK, When And Where To Watch: Live Telec...</td>\n",
       "      <td>news</td>\n",
       "      <td>DC vs CSK, When And Where To Watch: Live Telec...</td>\n",
       "    </tr>\n",
       "    <tr>\n",
       "      <th>4</th>\n",
       "      <td>Published: 22:05 EDT, 2 October 2021 | Updated...</td>\n",
       "      <td>Australia has one of the world's best skinny d...</td>\n",
       "      <td>news</td>\n",
       "      <td>Australia has one of the world's best skinny d...</td>\n",
       "    </tr>\n",
       "  </tbody>\n",
       "</table>\n",
       "</div>"
      ],
      "text/plain": [
       "                                             summary  \\\n",
       "0  Credit: Pixabay/CC0 Public Domain \\nThe sight ...   \n",
       "1  Over 30,000 Hockey Games Annually On HockeyTV ...   \n",
       "2  Chennai Super Kings (CSK) will spearhead again...   \n",
       "3  The Indian Premier League (IPL) 2021 has reach...   \n",
       "4  Published: 22:05 EDT, 2 October 2021 | Updated...   \n",
       "\n",
       "                                               title     topic  \\\n",
       "0              Riding the waves keeps ducks in a row      news   \n",
       "1  FLOSPORTS BOLSTERS ITS HOCKEY OFFERING WITH AC...  business   \n",
       "2  CSK vs PBKS, Chennai Super Kings vs Punjab Kin...      news   \n",
       "3  DC vs CSK, When And Where To Watch: Live Telec...      news   \n",
       "4  Australia has one of the world's best skinny d...      news   \n",
       "\n",
       "                                     model_input_txt  \n",
       "0  Riding the waves keeps ducks in a rowCredit: P...  \n",
       "1  FLOSPORTS BOLSTERS ITS HOCKEY OFFERING WITH AC...  \n",
       "2  CSK vs PBKS, Chennai Super Kings vs Punjab Kin...  \n",
       "3  DC vs CSK, When And Where To Watch: Live Telec...  \n",
       "4  Australia has one of the world's best skinny d...  "
      ]
     },
     "execution_count": 28,
     "metadata": {},
     "output_type": "execute_result"
    }
   ],
   "source": [
    "pd_Df.head()"
   ]
  }
 ],
 "metadata": {
  "kernelspec": {
   "display_name": "Python 3",
   "language": "python",
   "name": "python3"
  },
  "language_info": {
   "codemirror_mode": {
    "name": "ipython",
    "version": 3
   },
   "file_extension": ".py",
   "mimetype": "text/x-python",
   "name": "python",
   "nbconvert_exporter": "python",
   "pygments_lexer": "ipython3",
   "version": "3.8.5"
  }
 },
 "nbformat": 4,
 "nbformat_minor": 4
}
